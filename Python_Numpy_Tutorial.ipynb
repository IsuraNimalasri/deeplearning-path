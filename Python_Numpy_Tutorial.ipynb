{
  "nbformat": 4,
  "nbformat_minor": 0,
  "metadata": {
    "colab": {
      "name": "Python Numpy Tutorial.ipynb",
      "version": "0.3.2",
      "provenance": [],
      "include_colab_link": true
    },
    "kernelspec": {
      "name": "python3",
      "display_name": "Python 3"
    }
  },
  "cells": [
    {
      "cell_type": "markdown",
      "metadata": {
        "id": "view-in-github",
        "colab_type": "text"
      },
      "source": [
        "[View in Colaboratory](https://colab.research.google.com/github/hmchuong/deeplearning-path/blob/master/Python_Numpy_Tutorial.ipynb)"
      ]
    },
    {
      "metadata": {
        "id": "HmySwAiikj6Z",
        "colab_type": "text"
      },
      "cell_type": "markdown",
      "source": [
        "# Python Numpy Tutorial\n",
        "This notebook is written by [hasBrain](https://github.com/hasbrain), following the tutorial of [Justin Johnson](https://cs.stanford.edu/people/jcjohns/) from [Stanford CS231N course](http://cs231n.github.io/python-numpy-tutorial/)"
      ]
    },
    {
      "metadata": {
        "id": "QPVbuz-fkcZe",
        "colab_type": "code",
        "colab": {}
      },
      "cell_type": "code",
      "source": [
        ""
      ],
      "execution_count": 0,
      "outputs": []
    }
  ]
}